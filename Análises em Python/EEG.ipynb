{
 "cells": [
  {
   "cell_type": "code",
   "execution_count": 18,
   "id": "governmental-gossip",
   "metadata": {},
   "outputs": [
    {
     "name": "stdout",
     "output_type": "stream",
     "text": [
      "C:\\Users\\Rodrigo Araujo\\Documents\\IME-USP\\IC - EEG\\eeg_survey\\Alcoholism EEG\\Alcoholism_S2\n"
     ]
    }
   ],
   "source": [
    "import pandas as pd\n",
    "import numpy as np\n",
    "import pickle\n",
    "import json\n",
    "import os\n",
    "\n",
    "\n",
    "from sklearn.model_selection import KFold\n",
    "\n",
    "%cd \"C:\\Users\\Rodrigo Araujo\\Documents\\IME-USP\\IC - EEG\\eeg_survey\\Alcoholism EEG\\Alcoholism_S2\""
   ]
  },
  {
   "cell_type": "markdown",
   "id": "intensive-router",
   "metadata": {},
   "source": [
    "#### Lendo os dados"
   ]
  },
  {
   "cell_type": "code",
   "execution_count": 14,
   "id": "vanilla-surgeon",
   "metadata": {},
   "outputs": [],
   "source": [
    "###Read the data\n",
    "#Full data\n",
    "with open(os.path.join('s2_match.pkl'), 'rb') as s2_match:\n",
    "    dataset = pickle.load(s2_match)\n",
    "\n",
    "#Create train/test splits for cross-validation\n",
    "subjects = np.array(list(dataset.keys()))\n",
    "identifiers = list()\n",
    "for subject in subjects:\n",
    "    identifiers.append(dataset[subject]['y'][0])\n",
    "    \n",
    "train_index = list()\n",
    "test_index = list()"
   ]
  },
  {
   "cell_type": "code",
   "execution_count": 17,
   "id": "taken-palestinian",
   "metadata": {},
   "outputs": [
    {
     "data": {
      "text/plain": [
       "array(['co2a0000364', 'co2a0000365', 'co2a0000368', 'co2a0000369',\n",
       "       'co2a0000370', 'co2a0000371', 'co2a0000372', 'co2a0000375',\n",
       "       'co2c0000337', 'co2c0000338', 'co2c0000339', 'co2c0000340',\n",
       "       'co2c0000341', 'co2c0000342', 'co2c0000344', 'co2c0000345'],\n",
       "      dtype='<U11')"
      ]
     },
     "execution_count": 17,
     "metadata": {},
     "output_type": "execute_result"
    }
   ],
   "source": [
    "subjects"
   ]
  },
  {
   "cell_type": "code",
   "execution_count": 20,
   "id": "sapphire-transcript",
   "metadata": {},
   "outputs": [],
   "source": [
    "# skf = StratifiedKFold(n_splits=8)\n",
    "kf = KFold(n_splits=10)\n",
    "for train, test in kf.split(subjects, identifiers):\n",
    "    train_index.append(train)\n",
    "    test_index.append(test)"
   ]
  },
  {
   "cell_type": "code",
   "execution_count": null,
   "id": "capable-sympathy",
   "metadata": {},
   "outputs": [],
   "source": []
  }
 ],
 "metadata": {
  "kernelspec": {
   "display_name": "Python 3",
   "language": "python",
   "name": "python3"
  },
  "language_info": {
   "codemirror_mode": {
    "name": "ipython",
    "version": 3
   },
   "file_extension": ".py",
   "mimetype": "text/x-python",
   "name": "python",
   "nbconvert_exporter": "python",
   "pygments_lexer": "ipython3",
   "version": "3.7.6"
  }
 },
 "nbformat": 4,
 "nbformat_minor": 5
}
