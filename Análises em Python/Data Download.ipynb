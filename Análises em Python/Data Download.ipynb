{
 "cells": [
  {
   "cell_type": "code",
   "execution_count": null,
   "id": "empirical-pilot",
   "metadata": {},
   "outputs": [],
   "source": [
    "### pacotes\n",
    "import os\n",
    "import kaggle\n",
    "import requests\n",
    "from io import BytesIO\n",
    "from zipfile import ZipFile"
   ]
  },
  {
   "cell_type": "markdown",
   "id": "innocent-costa",
   "metadata": {},
   "source": [
    "#### Baixando os dados"
   ]
  },
  {
   "cell_type": "code",
   "execution_count": null,
   "id": "superior-causing",
   "metadata": {},
   "outputs": [],
   "source": [
    "### URL: https://www.kaggle.com/nnair25/Alcoholics\n",
    "### Para usar a lib do kaggle temos que seguir as instruções conforme visto em: https://www.kaggle.com/docs/api\n",
    "\n",
    "#Criando a estrutura da pasta\n",
    "if not os.path.exists(os.path.join('Data', 'Alcoholism')):\n",
    "    os.makedirs(os.path.join('Data', 'Alcoholism'))\n",
    "\n",
    "#Autenticando e baixando os dados do EEG\n",
    "kaggle.api.authenticate()\n",
    "kaggle.api.dataset_download_files('nnair25/Alcoholics', path=os.path.join('Data', 'Alcoholism'), unzip=True)"
   ]
  }
 ],
 "metadata": {
  "kernelspec": {
   "display_name": "Python 3",
   "language": "python",
   "name": "python3"
  },
  "language_info": {
   "codemirror_mode": {
    "name": "ipython",
    "version": 3
   },
   "file_extension": ".py",
   "mimetype": "text/x-python",
   "name": "python",
   "nbconvert_exporter": "python",
   "pygments_lexer": "ipython3",
   "version": "3.7.6"
  }
 },
 "nbformat": 4,
 "nbformat_minor": 5
}
