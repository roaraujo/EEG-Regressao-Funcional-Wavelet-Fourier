{
 "cells": [
  {
   "cell_type": "code",
   "execution_count": 7,
   "id": "hairy-genome",
   "metadata": {},
   "outputs": [],
   "source": [
    "#Libraries\n",
    "import pandas as pd\n",
    "import numpy as np\n",
    "from scipy.io import arff\n",
    "\n",
    "import pickle\n",
    "import os\n",
    "import csv\n",
    "from tqdm import tqdm"
   ]
  },
  {
   "cell_type": "markdown",
   "id": "stainless-organizer",
   "metadata": {},
   "source": [
    "#### Lendo os dados"
   ]
  },
  {
   "cell_type": "code",
   "execution_count": 16,
   "id": "educational-illinois",
   "metadata": {},
   "outputs": [],
   "source": [
    "def concatenate(dirt, data):\n",
    "    \n",
    "    filenames = os.listdir(dirt) ## list of file names in the directory\n",
    "\n",
    "    for file_name in tqdm(filenames):\n",
    "        temp_df = pd.read_csv(dirt + file_name) ## read from the file to df\n",
    "        data = data.append(temp_df) ## add the file data to the main df\n",
    "        \n",
    "    data = data.drop(['Unnamed: 0'], axis=1) ## remove the unused column\n",
    "    data.loc[data['matching condition'] == 'S2 nomatch,', 'matching condition'] =  'S2 nomatch' ## remove comma sign from stimulus name    \n",
    "        \n",
    "    return data     "
   ]
  },
  {
   "cell_type": "markdown",
   "id": "minor-strip",
   "metadata": {},
   "source": [
    "#### salvando os dados"
   ]
  },
  {
   "cell_type": "code",
   "execution_count": 18,
   "id": "virtual-value",
   "metadata": {},
   "outputs": [
    {
     "name": "stderr",
     "output_type": "stream",
     "text": [
      "100%|████████████████████████████████████████████████████████████████████████████████| 468/468 [07:25<00:00,  1.05it/s]\n",
      "100%|████████████████████████████████████████████████████████████████████████████████| 480/480 [07:26<00:00,  1.08it/s]\n"
     ]
    }
   ],
   "source": [
    "train = 'C:/Users/Rodrigo Araujo/Documents/IME-USP/IC - EEG/Alcoholism/SMNI_CMI_TRAIN/'\n",
    "test = 'C:/Users/Rodrigo Araujo/Documents/IME-USP/IC - EEG/Alcoholism/SMNI_CMI_TEST/'\n",
    "\n",
    "\n",
    "data_train = pd.DataFrame({})\n",
    "data_test = pd.DataFrame({})\n",
    "\n",
    "df_train = concatenate(train, data_train)\n",
    "df_test = concatenate(test, data_test)\n",
    "\n",
    "df_train.to_csv(\"C:/Users/Rodrigo Araujo/Documents/IME-USP/IC - EEG/Alcoholism/Data_clear/Alcoholism_train.csv\")\n",
    "df_test.to_csv(\"C:/Users/Rodrigo Araujo/Documents/IME-USP/IC - EEG/Alcoholism/Data_clear/Alcoholism_test.csv\")"
   ]
  },
  {
   "cell_type": "code",
   "execution_count": null,
   "id": "aggressive-radical",
   "metadata": {},
   "outputs": [],
   "source": []
  }
 ],
 "metadata": {
  "kernelspec": {
   "display_name": "Python 3",
   "language": "python",
   "name": "python3"
  },
  "language_info": {
   "codemirror_mode": {
    "name": "ipython",
    "version": 3
   },
   "file_extension": ".py",
   "mimetype": "text/x-python",
   "name": "python",
   "nbconvert_exporter": "python",
   "pygments_lexer": "ipython3",
   "version": "3.7.6"
  }
 },
 "nbformat": 4,
 "nbformat_minor": 5
}
